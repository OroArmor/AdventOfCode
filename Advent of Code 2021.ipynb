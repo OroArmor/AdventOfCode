{
 "cells": [
  {
   "cell_type": "code",
   "execution_count": 1,
   "id": "eed93b5f",
   "metadata": {},
   "outputs": [],
   "source": [
    "import numpy as np\n",
    "import aocd\n",
    "import re"
   ]
  },
  {
   "cell_type": "code",
   "execution_count": 29,
   "id": "486b0031",
   "metadata": {},
   "outputs": [
    {
     "name": "stdout",
     "output_type": "stream",
     "text": [
      "1521\n"
     ]
    }
   ],
   "source": [
    "# Day 1: part 1\n",
    "\n",
    "data = list(map(lambda x: int(x), aocd.get_data(year=2021, day=1).split(\"\\n\")))\n",
    "\n",
    "larger = 0\n",
    "for i in range(len(data) - 1):\n",
    "    if data[i] < data[i + 1]:\n",
    "        larger += 1\n",
    "        \n",
    "print(larger)"
   ]
  },
  {
   "cell_type": "code",
   "execution_count": 30,
   "id": "6f2d91fb",
   "metadata": {},
   "outputs": [
    {
     "name": "stdout",
     "output_type": "stream",
     "text": [
      "1543\n"
     ]
    }
   ],
   "source": [
    "# Day 1: part 2\n",
    "\n",
    "data = list(map(lambda x: int(x), aocd.get_data(year=2021, day=1).split(\"\\n\")))\n",
    "\n",
    "larger = 0\n",
    "for i in range(len(data) - 3):\n",
    "    if data[i] < data[i + 3]:\n",
    "        larger += 1\n",
    "        \n",
    "print(larger)"
   ]
  },
  {
   "cell_type": "code",
   "execution_count": 4,
   "id": "ad16cf6c",
   "metadata": {},
   "outputs": [
    {
     "name": "stdout",
     "output_type": "stream",
     "text": [
      "1654760\n"
     ]
    }
   ],
   "source": [
    "# Day 2: part 1\n",
    "\n",
    "data = aocd.get_data(year=2021, day=2).split(\"\\n\")\n",
    "\n",
    "depth = 0\n",
    "forward = 0\n",
    "\n",
    "for datum in data:\n",
    "    instruction = datum.split(\" \")\n",
    "    val = int(instruction[1])\n",
    "    if instruction[0] == \"forward\":\n",
    "        forward += val\n",
    "    elif instruction[0] == \"up\":\n",
    "        depth -= val\n",
    "    else:\n",
    "        depth += val\n",
    "\n",
    "print(forward * depth)"
   ]
  },
  {
   "cell_type": "code",
   "execution_count": 5,
   "id": "04909bbb",
   "metadata": {},
   "outputs": [
    {
     "name": "stdout",
     "output_type": "stream",
     "text": [
      "1956047400\n"
     ]
    }
   ],
   "source": [
    "# Day 2: part 2\n",
    "\n",
    "data = aocd.get_data(year=2021, day=2).split(\"\\n\")\n",
    "\n",
    "depth = 0\n",
    "forward = 0\n",
    "aim = 0\n",
    "\n",
    "for datum in data:\n",
    "    instruction = datum.split(\" \")\n",
    "    val = int(instruction[1])\n",
    "    if instruction[0] == \"forward\":\n",
    "        forward += val\n",
    "        depth += aim * val\n",
    "    elif instruction[0] == \"up\":\n",
    "        aim -= val\n",
    "    else:\n",
    "        aim += val\n",
    "\n",
    "print(forward * depth)"
   ]
  },
  {
   "cell_type": "code",
   "execution_count": 6,
   "id": "5b21fd50",
   "metadata": {},
   "outputs": [
    {
     "name": "stdout",
     "output_type": "stream",
     "text": [
      "[False False  True  True  True False  True False False  True  True  True]\n",
      "2954600\n"
     ]
    }
   ],
   "source": [
    "# Day 3: part 1\n",
    "\n",
    "data = aocd.get_data(year=2021, day=3).split(\"\\n\")\n",
    "\n",
    "new_data = np.zeros((len(data), len(data[0])))\n",
    "\n",
    "counter = 0\n",
    "for datum in data:\n",
    "    for bit in datum:\n",
    "        new_data[counter // len(data[0])][counter % len(data[0])] += int(bit)\n",
    "        counter += 1\n",
    "\n",
    "one_is_max = np.sum(new_data, axis = 0) > (len(new_data) / 2)\n",
    "\n",
    "num_one = 0\n",
    "num_two = 0\n",
    "\n",
    "print(one_is_max)\n",
    "\n",
    "for i in range(len(data[0])):\n",
    "    num_one += pow(2, i) * one_is_max[len(data[0]) - i - 1]\n",
    "    num_two += pow(2, i) * (1 - one_is_max[len(data[0]) - i - 1])\n",
    "    \n",
    "print(int(num_one * num_two))"
   ]
  },
  {
   "cell_type": "code",
   "execution_count": 7,
   "id": "1520a0b4",
   "metadata": {},
   "outputs": [
    {
     "name": "stdout",
     "output_type": "stream",
     "text": [
      "1662846\n"
     ]
    }
   ],
   "source": [
    "# Day 3: part 2\n",
    "\n",
    "data = aocd.get_data(year=2021, day=3).split(\"\\n\")\n",
    "\n",
    "new_data = np.zeros((len(data), len(data[0])))\n",
    "\n",
    "counter = 0\n",
    "for datum in data:\n",
    "    for bit in datum:\n",
    "        new_data[counter // len(data[0])][counter % len(data[0])] += int(bit)\n",
    "        counter += 1\n",
    "\n",
    "        \n",
    "oxygen = np.copy(new_data)\n",
    "co2 = np.copy(new_data)\n",
    "index = 0\n",
    "while len(oxygen) > 1 and index < len(data[0]):\n",
    "    one_is_max = np.sum(oxygen, axis = 0)[index] >= (len(oxygen) / 2)\n",
    "    oxygen = oxygen[oxygen[:, index] == (1 if one_is_max else 0)]\n",
    "    index += 1\n",
    "\n",
    "index = 0\n",
    "while len(co2) > 1 and index < len(data[0]):\n",
    "    one_is_max = np.sum(co2, axis = 0)[index] >= (len(co2) / 2)\n",
    "    co2 = co2[co2[:, index] == (0 if one_is_max else 1)]\n",
    "    index += 1\n",
    "\n",
    "num_one = 0\n",
    "num_two = 0\n",
    "\n",
    "for i in range(len(data[0])):\n",
    "    num_one += pow(2, i) * oxygen[0][len(data[0]) - i - 1]\n",
    "    num_two += pow(2, i) * (co2[0][len(data[0]) - i - 1])\n",
    "    \n",
    "print(int(num_one * num_two))"
   ]
  },
  {
   "cell_type": "code",
   "execution_count": 8,
   "id": "fbed7780",
   "metadata": {},
   "outputs": [
    {
     "name": "stdout",
     "output_type": "stream",
     "text": [
      "49860\n"
     ]
    }
   ],
   "source": [
    "# Day 4: Part 1\n",
    "\n",
    "data = aocd.get_data(year=2021, day=4).split(\"\\n\")\n",
    "numbers = data[0].split(\",\")\n",
    "\n",
    "boards = np.zeros(((len(data) - 1) // 6, 5, 5))\n",
    "selected = np.copy(boards)\n",
    "\n",
    "for i in range(2, len(data)):\n",
    "    if len(data[i]) < 10:\n",
    "        continue\n",
    "    else:\n",
    "        j = 0\n",
    "        for num in re.split(\"\\\\s+\", data[i].strip()):\n",
    "            boards[(i - 2) // 6, (i - 2) % 6, j] = int(num)\n",
    "            j+=1\n",
    "            \n",
    "for number in numbers:\n",
    "    number = int(number)\n",
    "    selected[boards[:,:,:] == number] = 1\n",
    "    \n",
    "    rows = np.logical_or.reduce(np.sum(selected, 2)[:, :] == 5, axis = 1)\n",
    "    cols = np.logical_or.reduce(np.sum(selected, 1)[:, :] == 5, axis = 1)\n",
    "    \n",
    "    row = np.logical_or.reduce(rows)\n",
    "    col = np.logical_or.reduce(cols)\n",
    "    \n",
    "    if row:\n",
    "        print(int(np.sum(boards[rows][selected[rows] == False]) * number))\n",
    "        break\n",
    "    if col:\n",
    "        print(int(np.sum(boards[cols][selected[cols] == False]) * number))\n",
    "        break"
   ]
  },
  {
   "cell_type": "code",
   "execution_count": 9,
   "id": "b1da12c4",
   "metadata": {},
   "outputs": [
    {
     "name": "stdout",
     "output_type": "stream",
     "text": [
      "24628\n"
     ]
    }
   ],
   "source": [
    "# Day 4: Part 2\n",
    "\n",
    "data = aocd.get_data(year=2021, day=4).split(\"\\n\")\n",
    "numbers = data[0].split(\",\")\n",
    "\n",
    "boards = np.zeros(((len(data) - 1) // 6, 5, 5))\n",
    "selected = np.copy(boards)\n",
    "\n",
    "for i in range(2, len(data)):\n",
    "    if len(data[i]) < 10:\n",
    "        continue\n",
    "    else:\n",
    "        j = 0\n",
    "        for num in re.split(\"\\\\s+\", data[i].strip()):\n",
    "            boards[(i - 2) // 6, (i - 2) % 6, j] = int(num)\n",
    "            j+=1\n",
    "\n",
    "found = False\n",
    "index = -1\n",
    "for number in numbers:\n",
    "    number = int(number)\n",
    "    selected[boards[:,:,:] == number] = 1\n",
    "    \n",
    "    rows = np.logical_or.reduce(np.sum(selected, 2)[:, :] == 5, axis = 1)\n",
    "    cols = np.logical_or.reduce(np.sum(selected, 1)[:, :] == 5, axis = 1)\n",
    "    \n",
    "    solved = np.logical_or(rows, cols)\n",
    "    \n",
    "    if len(solved[solved == False]) == 1:\n",
    "        found = True\n",
    "        index = solved == False\n",
    "        \n",
    "    if found and len(solved[solved == False]) == 0:\n",
    "        print(int(np.sum(boards[index][selected[index] == 0]) * number))\n",
    "        break"
   ]
  },
  {
   "cell_type": "code",
   "execution_count": 10,
   "id": "e3b7fd77",
   "metadata": {},
   "outputs": [
    {
     "name": "stdout",
     "output_type": "stream",
     "text": [
      "7297\n"
     ]
    }
   ],
   "source": [
    "# Day 5: Part 1\n",
    "\n",
    "data = aocd.get_data(year=2021, day=5).split(\"\\n\")\n",
    "\n",
    "new_data = np.zeros((len(data), 2, 2))\n",
    "\n",
    "for i in range(len(data)):\n",
    "    d = data[i].split(\" -> \")\n",
    "    d = list(map(lambda x: x.split(\",\"), d))\n",
    "    new_data[i] = [[int(d[0][0]), int(d[0][1])], [int(d[1][0]), int(d[1][1])]]\n",
    "    \n",
    "grid = np.zeros((1000,1000))\n",
    "\n",
    "for line in new_data:\n",
    "    if line[0][0] == line[1][0]:\n",
    "        start = int(min(line[0][1], line[1][1]))\n",
    "        end = int(max(line[0][1], line[1][1]))\n",
    "        for j in range(start, end + 1): \n",
    "            grid[int(line[0][0]), int(j)] += 1\n",
    "            \n",
    "    elif line[0][1] == line[1][1]:\n",
    "        start = int(min(line[0][0], line[1][0]))\n",
    "        end = int(max(line[0][0], line[1][0]))\n",
    "        for j in range(start, end + 1): \n",
    "            grid[int(j), int(line[0][1])] += 1\n",
    "            \n",
    "print(len(grid[grid >= 2]))"
   ]
  },
  {
   "cell_type": "code",
   "execution_count": 11,
   "id": "a9468cd2",
   "metadata": {},
   "outputs": [
    {
     "name": "stdout",
     "output_type": "stream",
     "text": [
      "21038\n"
     ]
    }
   ],
   "source": [
    "# Day 5: Part 2\n",
    "\n",
    "data = aocd.get_data(year=2021, day=5).split(\"\\n\")\n",
    "\n",
    "new_data = np.zeros((len(data), 2, 2))\n",
    "\n",
    "for i in range(len(data)):\n",
    "    d = data[i].split(\" -> \")\n",
    "    d = list(map(lambda x: x.split(\",\"), d))\n",
    "    new_data[i] = [[int(d[0][0]), int(d[0][1])], [int(d[1][0]), int(d[1][1])]]\n",
    "    \n",
    "grid = np.zeros((1000,1000))\n",
    "\n",
    "for line in new_data:\n",
    "    if line[0][0] == line[1][0]:\n",
    "        start = int(min(line[0][1], line[1][1]))\n",
    "        end = int(max(line[0][1], line[1][1]))\n",
    "        for j in range(start, end + 1): \n",
    "            grid[int(line[0][0]), int(j)] += 1\n",
    "        continue\n",
    "            \n",
    "    elif line[0][1] == line[1][1]:\n",
    "        start = int(min(line[0][0], line[1][0]))\n",
    "        end = int(max(line[0][0], line[1][0]))\n",
    "        for j in range(start, end + 1): \n",
    "            grid[int(j), int(line[0][1])] += 1\n",
    "        continue\n",
    "\n",
    "    delta = line[0] - line[1]\n",
    "    \n",
    "    if delta[0] == 0 or delta[1] == 0:\n",
    "        continue\n",
    "    \n",
    "    x_range = range(int(delta[0]) + 1) if delta[0] > 0 else range(0, int(delta[0] - 1), -1)\n",
    "    y_range = range(int(delta[1]) + 1) if delta[1] > 0 else range(0, int(delta[1] - 1), -1)\n",
    "    \n",
    "    for x,y in zip(x_range, y_range):\n",
    "        grid[int(line[1][0] + x), int(line[1][1] + y)] +=1\n",
    "\n",
    "print(len(grid[grid >= 2]))"
   ]
  },
  {
   "cell_type": "code",
   "execution_count": 27,
   "id": "b98afd95",
   "metadata": {},
   "outputs": [
    {
     "name": "stdout",
     "output_type": "stream",
     "text": [
      "351188\n"
     ]
    }
   ],
   "source": [
    "# Day 6: part 1\n",
    "\n",
    "data = aocd.get_data(year=2021, day=6).split(\",\")\n",
    "\n",
    "data = list(map(lambda x: int(x), data))\n",
    "\n",
    "for i in range(80):\n",
    "    count = 0\n",
    "    for j in range(len(data)):\n",
    "        if data[j] != 0:\n",
    "            data[j] -= 1\n",
    "        else:\n",
    "            count += 1\n",
    "            data[j] = 6\n",
    "    for new in range(count):\n",
    "        data.append(8)\n",
    "\n",
    "print(len(data))"
   ]
  },
  {
   "cell_type": "code",
   "execution_count": 28,
   "id": "4e21c04e",
   "metadata": {},
   "outputs": [
    {
     "name": "stdout",
     "output_type": "stream",
     "text": [
      "1595779846729\n"
     ]
    }
   ],
   "source": [
    "# Day 6: part 2\n",
    "\n",
    "data = aocd.get_data(year=2021, day=6).split(\",\")\n",
    "data = list(map(lambda x: int(x), data))\n",
    "\n",
    "bins = np.zeros((9))\n",
    "for day in data:\n",
    "    bins[day] +=1\n",
    "    \n",
    "for i in range(256):\n",
    "    zeros = bins[0]\n",
    "    bins = np.roll(bins, -1)\n",
    "    bins[6] += zeros\n",
    "\n",
    "print(int(bins.sum()))"
   ]
  },
  {
   "cell_type": "code",
   "execution_count": 14,
   "id": "58464361",
   "metadata": {},
   "outputs": [],
   "source": [
    "# Day 7: part 1\n",
    "\n",
    "data = aocd.get_data(year=2021, day=7).split(\",\")\n",
    "\n",
    "print(data)"
   ]
  }
 ],
 "metadata": {
  "kernelspec": {
   "display_name": "Python 3",
   "language": "python",
   "name": "python3"
  },
  "language_info": {
   "codemirror_mode": {
    "name": "ipython",
    "version": 3
   },
   "file_extension": ".py",
   "mimetype": "text/x-python",
   "name": "python",
   "nbconvert_exporter": "python",
   "pygments_lexer": "ipython3",
   "version": "3.8.8"
  }
 },
 "nbformat": 4,
 "nbformat_minor": 5
}
