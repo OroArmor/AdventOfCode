{
 "cells": [
  {
   "cell_type": "code",
   "execution_count": 1,
   "id": "eed93b5f",
   "metadata": {},
   "outputs": [],
   "source": [
    "import numpy as np\n",
    "import aocd\n",
    "import re\n",
    "\n",
    "def get_as_ints(l):\n",
    "    return list(map(lambda x: int(x), l))\n",
    "\n",
    "def get_lines(day):\n",
    "    return aocd.get_data(year=2021, day=day).split(\"\\n\")\n",
    "\n",
    "def get_csv(day):\n",
    "    return aocd.get_data(year=2021, day=day).split(\",\")\n",
    "                \n",
    "def get_lines_as_ints(day):\n",
    "    return get_as_ints(get_lines(day))\n",
    "\n",
    "def get_csv_as_ints(day):\n",
    "    return get_as_ints(get_csv(day))\n",
    "\n",
    "def get_csv_lines(day):\n",
    "    return list(map(lambda s: s.split(\",\"), get_as_lines(day)))\n",
    "\n",
    "def get_csv_lines_as_ints(day):\n",
    "    return list(map(lambda s: get_as_ints(s.split(\",\")), get_as_lines(day)))"
   ]
  },
  {
   "cell_type": "code",
   "execution_count": 2,
   "id": "486b0031",
   "metadata": {},
   "outputs": [
    {
     "name": "stdout",
     "output_type": "stream",
     "text": [
      "1521\n"
     ]
    }
   ],
   "source": [
    "# Day 1: part 1\n",
    "\n",
    "data = get_lines_as_ints(1)\n",
    "\n",
    "larger = 0\n",
    "for i in range(len(data) - 1):\n",
    "    if data[i] < data[i + 1]:\n",
    "        larger += 1\n",
    "        \n",
    "print(larger)"
   ]
  },
  {
   "cell_type": "code",
   "execution_count": 3,
   "id": "6f2d91fb",
   "metadata": {},
   "outputs": [
    {
     "name": "stdout",
     "output_type": "stream",
     "text": [
      "1543\n"
     ]
    }
   ],
   "source": [
    "# Day 1: part 2\n",
    "\n",
    "data = get_lines_as_ints(1)\n",
    "\n",
    "larger = 0\n",
    "for i in range(len(data) - 3):\n",
    "    if data[i] < data[i + 3]:\n",
    "        larger += 1\n",
    "        \n",
    "print(larger)"
   ]
  },
  {
   "cell_type": "code",
   "execution_count": 4,
   "id": "ad16cf6c",
   "metadata": {},
   "outputs": [
    {
     "name": "stdout",
     "output_type": "stream",
     "text": [
      "1654760\n"
     ]
    }
   ],
   "source": [
    "# Day 2: part 1\n",
    "\n",
    "data = get_lines(2)\n",
    "\n",
    "depth = 0\n",
    "forward = 0\n",
    "\n",
    "for datum in data:\n",
    "    instruction = datum.split(\" \")\n",
    "    val = int(instruction[1])\n",
    "    if instruction[0] == \"forward\":\n",
    "        forward += val\n",
    "    elif instruction[0] == \"up\":\n",
    "        depth -= val\n",
    "    else:\n",
    "        depth += val\n",
    "\n",
    "print(forward * depth)"
   ]
  },
  {
   "cell_type": "code",
   "execution_count": 5,
   "id": "04909bbb",
   "metadata": {},
   "outputs": [
    {
     "name": "stdout",
     "output_type": "stream",
     "text": [
      "1956047400\n"
     ]
    }
   ],
   "source": [
    "# Day 2: part 2\n",
    "\n",
    "data = get_lines(2)\n",
    "\n",
    "depth = 0\n",
    "forward = 0\n",
    "aim = 0\n",
    "\n",
    "for datum in data:\n",
    "    instruction = datum.split(\" \")\n",
    "    val = int(instruction[1])\n",
    "    if instruction[0] == \"forward\":\n",
    "        forward += val\n",
    "        depth += aim * val\n",
    "    elif instruction[0] == \"up\":\n",
    "        aim -= val\n",
    "    else:\n",
    "        aim += val\n",
    "\n",
    "print(forward * depth)"
   ]
  },
  {
   "cell_type": "code",
   "execution_count": 6,
   "id": "5b21fd50",
   "metadata": {},
   "outputs": [
    {
     "name": "stdout",
     "output_type": "stream",
     "text": [
      "2954600\n"
     ]
    }
   ],
   "source": [
    "# Day 3: part 1\n",
    "\n",
    "data = get_lines(3)\n",
    "\n",
    "new_data = np.zeros((len(data), len(data[0])))\n",
    "\n",
    "counter = 0\n",
    "for datum in data:\n",
    "    for bit in datum:\n",
    "        new_data[counter // len(data[0])][counter % len(data[0])] += int(bit)\n",
    "        counter += 1\n",
    "\n",
    "one_is_max = np.sum(new_data, axis = 0) > (len(new_data) / 2)\n",
    "\n",
    "num_one = 0\n",
    "num_two = 0\n",
    "\n",
    "for i in range(len(data[0])):\n",
    "    num_one += pow(2, i) * one_is_max[len(data[0]) - i - 1]\n",
    "    num_two += pow(2, i) * (1 - one_is_max[len(data[0]) - i - 1])\n",
    "    \n",
    "print(int(num_one * num_two))"
   ]
  },
  {
   "cell_type": "code",
   "execution_count": 7,
   "id": "1520a0b4",
   "metadata": {},
   "outputs": [
    {
     "name": "stdout",
     "output_type": "stream",
     "text": [
      "1662846\n"
     ]
    }
   ],
   "source": [
    "# Day 3: part 2\n",
    "\n",
    "data = get_lines(3)\n",
    "\n",
    "new_data = np.zeros((len(data), len(data[0])))\n",
    "\n",
    "counter = 0\n",
    "for datum in data:\n",
    "    for bit in datum:\n",
    "        new_data[counter // len(data[0])][counter % len(data[0])] += int(bit)\n",
    "        counter += 1\n",
    "\n",
    "        \n",
    "oxygen = np.copy(new_data)\n",
    "co2 = np.copy(new_data)\n",
    "index = 0\n",
    "while len(oxygen) > 1 and index < len(data[0]):\n",
    "    one_is_max = np.sum(oxygen, axis = 0)[index] >= (len(oxygen) / 2)\n",
    "    oxygen = oxygen[oxygen[:, index] == (1 if one_is_max else 0)]\n",
    "    index += 1\n",
    "\n",
    "index = 0\n",
    "while len(co2) > 1 and index < len(data[0]):\n",
    "    one_is_max = np.sum(co2, axis = 0)[index] >= (len(co2) / 2)\n",
    "    co2 = co2[co2[:, index] == (0 if one_is_max else 1)]\n",
    "    index += 1\n",
    "\n",
    "num_one = 0\n",
    "num_two = 0\n",
    "\n",
    "for i in range(len(data[0])):\n",
    "    num_one += pow(2, i) * oxygen[0][len(data[0]) - i - 1]\n",
    "    num_two += pow(2, i) * (co2[0][len(data[0]) - i - 1])\n",
    "    \n",
    "print(int(num_one * num_two))"
   ]
  },
  {
   "cell_type": "code",
   "execution_count": 8,
   "id": "fbed7780",
   "metadata": {},
   "outputs": [
    {
     "name": "stdout",
     "output_type": "stream",
     "text": [
      "49860\n"
     ]
    }
   ],
   "source": [
    "# Day 4: Part 1\n",
    "\n",
    "data = get_lines(4)\n",
    "numbers = data[0].split(\",\")\n",
    "\n",
    "boards = np.zeros(((len(data) - 1) // 6, 5, 5))\n",
    "selected = np.copy(boards)\n",
    "\n",
    "for i in range(2, len(data)):\n",
    "    if len(data[i]) < 10:\n",
    "        continue\n",
    "    else:\n",
    "        j = 0\n",
    "        for num in re.split(\"\\\\s+\", data[i].strip()):\n",
    "            boards[(i - 2) // 6, (i - 2) % 6, j] = int(num)\n",
    "            j+=1\n",
    "            \n",
    "for number in numbers:\n",
    "    number = int(number)\n",
    "    selected[boards[:,:,:] == number] = 1\n",
    "    \n",
    "    rows = np.logical_or.reduce(np.sum(selected, 2)[:, :] == 5, axis = 1)\n",
    "    cols = np.logical_or.reduce(np.sum(selected, 1)[:, :] == 5, axis = 1)\n",
    "    \n",
    "    row = np.logical_or.reduce(rows)\n",
    "    col = np.logical_or.reduce(cols)\n",
    "    \n",
    "    if row:\n",
    "        print(int(np.sum(boards[rows][selected[rows] == False]) * number))\n",
    "        break\n",
    "    if col:\n",
    "        print(int(np.sum(boards[cols][selected[cols] == False]) * number))\n",
    "        break"
   ]
  },
  {
   "cell_type": "code",
   "execution_count": 9,
   "id": "b1da12c4",
   "metadata": {},
   "outputs": [
    {
     "name": "stdout",
     "output_type": "stream",
     "text": [
      "24628\n"
     ]
    }
   ],
   "source": [
    "# Day 4: Part 2\n",
    "\n",
    "data = get_lines(4)\n",
    "numbers = data[0].split(\",\")\n",
    "\n",
    "boards = np.zeros(((len(data) - 1) // 6, 5, 5))\n",
    "selected = np.copy(boards)\n",
    "\n",
    "for i in range(2, len(data)):\n",
    "    if len(data[i]) < 10:\n",
    "        continue\n",
    "    else:\n",
    "        j = 0\n",
    "        for num in re.split(\"\\\\s+\", data[i].strip()):\n",
    "            boards[(i - 2) // 6, (i - 2) % 6, j] = int(num)\n",
    "            j+=1\n",
    "\n",
    "found = False\n",
    "index = -1\n",
    "for number in numbers:\n",
    "    number = int(number)\n",
    "    selected[boards[:,:,:] == number] = 1\n",
    "    \n",
    "    rows = np.logical_or.reduce(np.sum(selected, 2)[:, :] == 5, axis = 1)\n",
    "    cols = np.logical_or.reduce(np.sum(selected, 1)[:, :] == 5, axis = 1)\n",
    "    \n",
    "    solved = np.logical_or(rows, cols)\n",
    "    \n",
    "    if len(solved[solved == False]) == 1:\n",
    "        found = True\n",
    "        index = solved == False\n",
    "        \n",
    "    if found and len(solved[solved == False]) == 0:\n",
    "        print(int(np.sum(boards[index][selected[index] == 0]) * number))\n",
    "        break"
   ]
  },
  {
   "cell_type": "code",
   "execution_count": 10,
   "id": "e3b7fd77",
   "metadata": {},
   "outputs": [
    {
     "name": "stdout",
     "output_type": "stream",
     "text": [
      "7297\n"
     ]
    }
   ],
   "source": [
    "# Day 5: Part 1\n",
    "\n",
    "data = get_lines(5)\n",
    "\n",
    "new_data = np.zeros((len(data), 2, 2))\n",
    "\n",
    "for i in range(len(data)):\n",
    "    d = data[i].split(\" -> \")\n",
    "    d = list(map(lambda x: x.split(\",\"), d))\n",
    "    new_data[i] = [[int(d[0][0]), int(d[0][1])], [int(d[1][0]), int(d[1][1])]]\n",
    "    \n",
    "grid = np.zeros((1000,1000))\n",
    "\n",
    "for line in new_data:\n",
    "    if line[0][0] == line[1][0]:\n",
    "        start = int(min(line[0][1], line[1][1]))\n",
    "        end = int(max(line[0][1], line[1][1]))\n",
    "        for j in range(start, end + 1): \n",
    "            grid[int(line[0][0]), int(j)] += 1\n",
    "            \n",
    "    elif line[0][1] == line[1][1]:\n",
    "        start = int(min(line[0][0], line[1][0]))\n",
    "        end = int(max(line[0][0], line[1][0]))\n",
    "        for j in range(start, end + 1): \n",
    "            grid[int(j), int(line[0][1])] += 1\n",
    "            \n",
    "print(len(grid[grid >= 2]))"
   ]
  },
  {
   "cell_type": "code",
   "execution_count": 11,
   "id": "a9468cd2",
   "metadata": {},
   "outputs": [
    {
     "name": "stdout",
     "output_type": "stream",
     "text": [
      "21038\n"
     ]
    }
   ],
   "source": [
    "# Day 5: Part 2\n",
    "\n",
    "data = get_lines(5)\n",
    "\n",
    "new_data = np.zeros((len(data), 2, 2))\n",
    "\n",
    "for i in range(len(data)):\n",
    "    d = data[i].split(\" -> \")\n",
    "    d = list(map(lambda x: x.split(\",\"), d))\n",
    "    new_data[i] = [[int(d[0][0]), int(d[0][1])], [int(d[1][0]), int(d[1][1])]]\n",
    "    \n",
    "grid = np.zeros((1000,1000))\n",
    "\n",
    "for line in new_data:\n",
    "    if line[0][0] == line[1][0]:\n",
    "        start = int(min(line[0][1], line[1][1]))\n",
    "        end = int(max(line[0][1], line[1][1]))\n",
    "        for j in range(start, end + 1): \n",
    "            grid[int(line[0][0]), int(j)] += 1\n",
    "        continue\n",
    "            \n",
    "    elif line[0][1] == line[1][1]:\n",
    "        start = int(min(line[0][0], line[1][0]))\n",
    "        end = int(max(line[0][0], line[1][0]))\n",
    "        for j in range(start, end + 1): \n",
    "            grid[int(j), int(line[0][1])] += 1\n",
    "        continue\n",
    "\n",
    "    delta = line[0] - line[1]\n",
    "    \n",
    "    if delta[0] == 0 or delta[1] == 0:\n",
    "        continue\n",
    "    \n",
    "    x_range = range(int(delta[0]) + 1) if delta[0] > 0 else range(0, int(delta[0] - 1), -1)\n",
    "    y_range = range(int(delta[1]) + 1) if delta[1] > 0 else range(0, int(delta[1] - 1), -1)\n",
    "    \n",
    "    for x,y in zip(x_range, y_range):\n",
    "        grid[int(line[1][0] + x), int(line[1][1] + y)] +=1\n",
    "\n",
    "print(len(grid[grid >= 2]))"
   ]
  },
  {
   "cell_type": "code",
   "execution_count": 12,
   "id": "b98afd95",
   "metadata": {},
   "outputs": [
    {
     "name": "stdout",
     "output_type": "stream",
     "text": [
      "351188\n"
     ]
    }
   ],
   "source": [
    "# Day 6: part 1\n",
    "\n",
    "data = get_csv_as_ints(6)\n",
    "\n",
    "for i in range(80):\n",
    "    count = 0\n",
    "    for j in range(len(data)):\n",
    "        if data[j] != 0:\n",
    "            data[j] -= 1\n",
    "        else:\n",
    "            count += 1\n",
    "            data[j] = 6\n",
    "    for new in range(count):\n",
    "        data.append(8)\n",
    "\n",
    "print(len(data))"
   ]
  },
  {
   "cell_type": "code",
   "execution_count": 13,
   "id": "4e21c04e",
   "metadata": {},
   "outputs": [
    {
     "name": "stdout",
     "output_type": "stream",
     "text": [
      "1595779846729\n"
     ]
    }
   ],
   "source": [
    "# Day 6: part 2\n",
    "\n",
    "data = get_csv_as_ints(6)\n",
    "\n",
    "bins = np.zeros((9))\n",
    "for day in data:\n",
    "    bins[day] +=1\n",
    "    \n",
    "for i in range(256):\n",
    "    zeros = bins[0]\n",
    "    bins = np.roll(bins, -1)\n",
    "    bins[6] += zeros\n",
    "\n",
    "print(int(bins.sum()))"
   ]
  },
  {
   "cell_type": "code",
   "execution_count": 14,
   "id": "58464361",
   "metadata": {},
   "outputs": [
    {
     "name": "stdout",
     "output_type": "stream",
     "text": [
      "336701\n"
     ]
    }
   ],
   "source": [
    "# Day 7: part 1\n",
    "\n",
    "data = np.array(get_csv_as_ints(7))\n",
    "\n",
    "print(np.frompyfunc(lambda i: np.frompyfunc(lambda x: abs(x - i), 1, 1)(data).sum(), 1, 1)(np.arange(data.min(), data.max() + 1)).min())"
   ]
  },
  {
   "cell_type": "code",
   "execution_count": 15,
   "id": "67bef9e8",
   "metadata": {},
   "outputs": [
    {
     "name": "stdout",
     "output_type": "stream",
     "text": [
      "95167302\n"
     ]
    }
   ],
   "source": [
    "# Day 7: part 2\n",
    "\n",
    "data = np.array(get_csv_as_ints(7))\n",
    "\n",
    "def sum_fact(val):\n",
    "    val = abs(val)\n",
    "    return val * (val + 1) // 2\n",
    "\n",
    "print(np.frompyfunc(lambda i: np.frompyfunc(lambda x: sum_fact(x-i), 1, 1)(data).sum(), 1, 1)(np.arange(data.min(), data.max() + 1)).min())"
   ]
  },
  {
   "cell_type": "code",
   "execution_count": 16,
   "id": "7c44634c",
   "metadata": {},
   "outputs": [
    {
     "name": "stdout",
     "output_type": "stream",
     "text": [
      "449\n"
     ]
    }
   ],
   "source": [
    "# Day 8: part 1\n",
    "\n",
    "data = np.array(get_lines(8))\n",
    "data = np.array(list(map(lambda s: np.array(s.split(\" | \")[1].split(\" \")), data)))\n",
    "\n",
    "one = ['c', 'f']\n",
    "four = ['b', 'c', 'd', 'f']\n",
    "seven = ['a','c','f']\n",
    "eight = ['a','b','c','d','e','f','g']\n",
    "\n",
    "nums = [one, four, seven, eight]\n",
    "\n",
    "counter = 0\n",
    "for d in data:\n",
    "    for d2 in d:\n",
    "        length = len(d2)\n",
    "        if length == 2 or length == 3 or length == 4 or length == 7:\n",
    "            counter += 1\n",
    "print(counter)\n",
    "                    "
   ]
  },
  {
   "cell_type": "code",
   "execution_count": 17,
   "id": "973d9c2a",
   "metadata": {},
   "outputs": [
    {
     "name": "stdout",
     "output_type": "stream",
     "text": [
      "968175\n"
     ]
    }
   ],
   "source": [
    "from itertools import permutations\n",
    "\n",
    "data = np.array(get_lines(8))\n",
    "data = list(map(lambda s: list(map(lambda n: n.split(\" \"), s.split(\" | \"))), data))\n",
    "\n",
    "total = 0\n",
    "for d in data:\n",
    "    output = 0\n",
    "    \n",
    "    vals = [\"\",\"\",\"\",\"\",\"\",\"\",\"\",\"\",\"\",\"\"]\n",
    "    \n",
    "    \n",
    "    for d1 in d[0]:\n",
    "        length = len(d1)\n",
    "        if length == 2:\n",
    "            vals[1] = d1\n",
    "        elif length == 3: \n",
    "            vals[7] = d1\n",
    "        elif length == 4:\n",
    "            vals[4] = d1\n",
    "        elif length == 7:\n",
    "            vals[8] = d1\n",
    "    \n",
    "    for d1 in d[0]:\n",
    "        if d1 in vals:\n",
    "            continue\n",
    "        \n",
    "        length = len(d1)\n",
    "        if length == 5:\n",
    "            if vals[1][0] in d1 and vals[1][1] in d1:\n",
    "                vals[3] = d1\n",
    "            else:\n",
    "                common = 0\n",
    "                for c in vals[4]:\n",
    "                    if c in d1:\n",
    "                        common += 1\n",
    "                \n",
    "                if common == 2:\n",
    "                    vals[2] = d1\n",
    "                else:\n",
    "                    vals[5] = d1\n",
    "        elif length == 6:\n",
    "            common = 0\n",
    "            for c in vals[1]:\n",
    "                if c in d1:\n",
    "                    common += 1\n",
    "            \n",
    "            if common == 1:\n",
    "                vals[6] = d1\n",
    "            else:\n",
    "                common = 0\n",
    "                for c in vals[4]:\n",
    "                    if c in d1:\n",
    "                        common += 1\n",
    "                if common == 4:\n",
    "                    vals[9] = d1\n",
    "                else:\n",
    "                    vals[0] = d1\n",
    "    \n",
    "    for d2 in d[1]:\n",
    "        output *= 10\n",
    "        perms = [''.join(p) for p in set(permutations(d2))]\n",
    "        for perm in perms:\n",
    "            if perm in vals:\n",
    "                output += vals.index(perm)\n",
    "                \n",
    "    total += output\n",
    "    \n",
    "print(total)"
   ]
  },
  {
   "cell_type": "code",
   "execution_count": 31,
   "id": "a46bc7ac",
   "metadata": {},
   "outputs": [
    {
     "name": "stdout",
     "output_type": "stream",
     "text": [
      "603\n"
     ]
    }
   ],
   "source": [
    "# Day 9: Part 1\n",
    "\n",
    "data = np.array(get_lines(9))\n",
    "\n",
    "total = 0\n",
    "for i in range(len(data)):\n",
    "    for j in range(len(data[i])):\n",
    "        val = int(data[i][j])\n",
    "        bad = False\n",
    "        if not i - 1 == -1:\n",
    "            if int(data[i - 1][j]) <= val:\n",
    "                bad = True\n",
    "        if not i + 1 == len(data):\n",
    "            if int(data[i + 1][j]) <= val:\n",
    "                bad = True\n",
    "        if not j - 1 == -1:\n",
    "            if int(data[i][j - 1]) <= val:\n",
    "                bad = True\n",
    "        if not j + 1 == len(data[i]):\n",
    "            if int(data[i][j + 1]) <= val:\n",
    "                bad = True\n",
    "        if not bad:\n",
    "            total += val + 1\n",
    "\n",
    "print(total)"
   ]
  },
  {
   "cell_type": "code",
   "execution_count": 60,
   "id": "9514f2d4",
   "metadata": {},
   "outputs": [
    {
     "name": "stdout",
     "output_type": "stream",
     "text": [
      "786780\n"
     ]
    }
   ],
   "source": [
    "# Day 9: Part 2\n",
    "\n",
    "data = np.array(get_lines(9))\n",
    "\n",
    "low_points = []\n",
    "for i in range(len(data)):\n",
    "    for j in range(len(data[i])):\n",
    "        val = int(data[i][j])\n",
    "        bad = False\n",
    "        if not i - 1 == -1:\n",
    "            if int(data[i - 1][j]) <= val:\n",
    "                bad = True\n",
    "        if not i + 1 == len(data):\n",
    "            if int(data[i + 1][j]) <= val:\n",
    "                bad = True\n",
    "        if not j - 1 == -1:\n",
    "            if int(data[i][j - 1]) <= val:\n",
    "                bad = True\n",
    "        if not j + 1 == len(data[i]):\n",
    "            if int(data[i][j + 1]) <= val:\n",
    "                bad = True\n",
    "        if not bad:\n",
    "            low_points.append([i,j])\n",
    "            \n",
    "basin_sizes = []\n",
    "def search_basin(cur, past, visited):\n",
    "    if cur in visited:\n",
    "        return\n",
    "    \n",
    "    if int(data[cur[0]][cur[1]]) > int(data[past[0]][past[1]]):\n",
    "        if not int(data[cur[0]][cur[1]]) == 9:\n",
    "            visited.append(cur)\n",
    "        else:\n",
    "            return\n",
    "    else:\n",
    "        return\n",
    "    \n",
    "    if cur[0] > 0:\n",
    "        search_basin([cur[0] - 1, cur[1]], cur, visited)\n",
    "    if cur[0] < len(data) - 1:\n",
    "        search_basin([cur[0] + 1, cur[1]], cur, visited)\n",
    "    if cur[1] > 0:\n",
    "        search_basin([cur[0], cur[1] - 1], cur, visited)\n",
    "    if cur[1] < len(data[cur[0]]) - 1:\n",
    "        search_basin([cur[0], cur[1]  + 1], cur, visited)\n",
    "    \n",
    "for low_point in low_points:\n",
    "    visited = []\n",
    "    if low_point[0] > 0:\n",
    "        search_basin([low_point[0] - 1, low_point[1]], low_point, visited)\n",
    "        \n",
    "    if low_point[0] < len(data) - 1:\n",
    "        search_basin([low_point[0] + 1, low_point[1]], low_point, visited)\n",
    "        \n",
    "    if low_point[1] > 0:\n",
    "        search_basin([low_point[0], low_point[1] - 1], low_point, visited)\n",
    "        \n",
    "    if low_point[1] < len(data[low_point[0]]) - 1:\n",
    "        search_basin([low_point[0], low_point[1] + 1], low_point, visited)\n",
    "        \n",
    "    basin_sizes.append(len(visited) + 1)\n",
    "    \n",
    "print(np.multiply.reduce(np.array(basin_sizes)[np.array(basin_sizes).argsort()[-3::]]))"
   ]
  },
  {
   "cell_type": "code",
   "execution_count": 74,
   "id": "080a1982",
   "metadata": {},
   "outputs": [
    {
     "name": "stdout",
     "output_type": "stream",
     "text": [
      "362271\n"
     ]
    }
   ],
   "source": [
    "# Day 10: Part 1\n",
    "data = get_lines(10)\n",
    "\n",
    "new_lines = []\n",
    "for line in data:\n",
    "    past_line = \"\"\n",
    "    while line != past_line:\n",
    "        past_line = line\n",
    "        line = line.replace(\"()\", \"\")\n",
    "        line = line.replace(\"<>\", \"\")\n",
    "        line = line.replace(\"{}\", \"\")\n",
    "        line = line.replace(\"[]\", \"\")\n",
    "    \n",
    "    if \")\" in line or \"]\" in line or \"}\" in line or \">\" in line:\n",
    "        new_lines.append(line)\n",
    "        \n",
    "total = 0\n",
    "for line in new_lines:\n",
    "    found = False\n",
    "    for c in line:\n",
    "        if found:\n",
    "            continue\n",
    "        \n",
    "        if c == \")\":\n",
    "            total += 3\n",
    "            found = True\n",
    "        elif c == \"]\":\n",
    "            total += 57\n",
    "            found = True\n",
    "        elif c == \"}\":\n",
    "            total += 1197\n",
    "            found = True\n",
    "        elif c == \">\":\n",
    "            total += 25137\n",
    "            found = True\n",
    "        \n",
    "print(total)"
   ]
  },
  {
   "cell_type": "code",
   "execution_count": 93,
   "id": "b764b0f4",
   "metadata": {},
   "outputs": [
    {
     "name": "stdout",
     "output_type": "stream",
     "text": [
      "1698395182\n"
     ]
    }
   ],
   "source": [
    "# Day 10: Part 2\n",
    "data = get_lines(10)\n",
    "\n",
    "new_lines = []\n",
    "for line in data:\n",
    "    past_line = \"\"\n",
    "    while line != past_line:\n",
    "        past_line = line\n",
    "        line = line.replace(\"()\", \"\")\n",
    "        line = line.replace(\"<>\", \"\")\n",
    "        line = line.replace(\"{}\", \"\")\n",
    "        line = line.replace(\"[]\", \"\")\n",
    "    \n",
    "    if not (\")\" in line or \"]\" in line or \"}\" in line or \">\" in line):\n",
    "        new_lines.append(line)\n",
    "        \n",
    "totals = []\n",
    "for line in new_lines:\n",
    "    total = 0\n",
    "    for c in line[::-1]:\n",
    "        total *= 5\n",
    "        if c == \"(\":\n",
    "            total += 1\n",
    "        elif c == \"[\":\n",
    "            total += 2\n",
    "        elif c == \"{\":\n",
    "            total += 3\n",
    "        elif c == \"<\":\n",
    "            total += 4\n",
    "    totals.append(total)\n",
    "        \n",
    "totals = np.array(totals)\n",
    "args = np.argsort(totals)\n",
    "print(totals[args][(len(totals) // 2)])"
   ]
  }
 ],
 "metadata": {
  "kernelspec": {
   "display_name": "Python 3",
   "language": "python",
   "name": "python3"
  },
  "language_info": {
   "codemirror_mode": {
    "name": "ipython",
    "version": 3
   },
   "file_extension": ".py",
   "mimetype": "text/x-python",
   "name": "python",
   "nbconvert_exporter": "python",
   "pygments_lexer": "ipython3",
   "version": "3.8.8"
  }
 },
 "nbformat": 4,
 "nbformat_minor": 5
}
